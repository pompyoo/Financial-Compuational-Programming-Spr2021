{
  "nbformat": 4,
  "nbformat_minor": 0,
  "metadata": {
    "colab": {
      "name": "Python for Finance Part 1.ipynb",
      "provenance": [],
      "collapsed_sections": [],
      "include_colab_link": true
    },
    "kernelspec": {
      "display_name": "Python 3",
      "language": "python",
      "name": "python3"
    }
  },
  "cells": [
    {
      "cell_type": "markdown",
      "metadata": {
        "id": "view-in-github",
        "colab_type": "text"
      },
      "source": [
        "<a href=\"https://colab.research.google.com/github/pompyoo/Financial-Compuational-Programming-Spr2021/blob/master/Python_for_Finance_Part_1.ipynb\" target=\"_parent\"><img src=\"https://colab.research.google.com/assets/colab-badge.svg\" alt=\"Open In Colab\"/></a>"
      ]
    },
    {
      "cell_type": "markdown",
      "metadata": {
        "collapsed": true,
        "id": "VCn4ocPf3-9g"
      },
      "source": [
        "# **Welcome to the Financial Programming with Python**\n",
        "\n",
        "### Quick tips\n",
        "\n",
        "When working in a Google Colaboratory notebook, **Shift-Return (Shift-Enter)** runs the cell you're on.  You can also run the cell using the \"Play\" button at the left edge of the cell.\n",
        "\n",
        "There are many other keyboard shortcuts.  You can access the list via the menu bar, at **Tools-->Command palette**.  In fact, you can even customize your keyboard shortcuts using **Tools-->Keyboard shortcuts**.\n",
        "\n",
        "\n",
        "> (If you're working in an Anaconda/Jupyter notebook:\n",
        "- Shift-Return (Shift-Enter) runs the cell you're on.  You can also run the cell using the \"Play\" button in the toolbar.\n",
        "- Esc, then A inserts a cell above where you are.\n",
        "- Esc, then B inserts a cell below where you are.\n",
        "- More shortcuts under Help --> Keyboard Shortcuts)\n",
        "\n",
        "\n",
        "You will probably get some errors in working through this notebook.  That's okay, you can just go back and change the cell and re-run it.\n",
        "\n",
        "The notebook auto-saves as you work, just like gmail and most Google apps.\n",
        "\n",
        "\n",
        "\n",
        "\n",
        "\n",
        "# Variables\n",
        "\n",
        "The first thing we're going to do is to learn about **variables**.  Variables are a way to store values that can be numbers, text, lists, boolean (true/false), etc.\n",
        "\n",
        "Much like in algebra, you set the value of a variable using what looks like an equation.\n",
        "\n",
        "To run this next cell, click on it and either press Shift-Enter, or press the Play (\"run cell\") button in the toolbar."
      ]
    },
    {
      "cell_type": "code",
      "metadata": {
        "id": "Hih5T6rp3-9h"
      },
      "source": [
        "price = 7.99"
      ],
      "execution_count": null,
      "outputs": []
    },
    {
      "cell_type": "markdown",
      "metadata": {
        "id": "RG28W_Rp3-9l"
      },
      "source": [
        "So let's see the effect of that, by having Python **evaluate** our variable called `price`.  Again, press Shift-Enter, or press the Play (\"run cell\") button in the toolbar."
      ]
    },
    {
      "cell_type": "code",
      "metadata": {
        "id": "escqhnnT3-9m",
        "colab": {
          "base_uri": "https://localhost:8080/",
          "height": 34
        },
        "outputId": "10e0252b-270e-4d64-9f0b-a254ad4d4d72"
      },
      "source": [
        "price"
      ],
      "execution_count": null,
      "outputs": [
        {
          "output_type": "execute_result",
          "data": {
            "text/plain": [
              "7.99"
            ]
          },
          "metadata": {
            "tags": []
          },
          "execution_count": 6
        }
      ]
    },
    {
      "cell_type": "markdown",
      "metadata": {
        "id": "mIfP3fMy3-9p"
      },
      "source": [
        "Next, set the value of a new variable to your name.   A couple of things you'll need to know:\n",
        "* Variable names can't contain spaces or special characters (except `_` )\n",
        "* String values (like words or text) must be contained in a pair of either matching single quotes or matching double quotes.  For example:  `'This is some text'` or `\"This is some text\"`"
      ]
    },
    {
      "cell_type": "code",
      "metadata": {
        "id": "BG1S-FXf3-9q"
      },
      "source": [
        "name = 'Dan'"
      ],
      "execution_count": null,
      "outputs": []
    },
    {
      "cell_type": "code",
      "metadata": {
        "id": "PSv1a1_v3-9t",
        "colab": {
          "base_uri": "https://localhost:8080/",
          "height": 34
        },
        "outputId": "fef45c87-f65e-495e-8078-8c2bb2feec24"
      },
      "source": [
        "name"
      ],
      "execution_count": null,
      "outputs": [
        {
          "output_type": "execute_result",
          "data": {
            "text/plain": [
              "'Dan'"
            ]
          },
          "metadata": {
            "tags": []
          },
          "execution_count": 9
        }
      ]
    },
    {
      "cell_type": "markdown",
      "metadata": {
        "id": "lejV-TVE3-9w"
      },
      "source": [
        "If you have another language installed on your computer (Chinese, Arabic, etc.), try using foreign characters in your string.  Python 3 handles these well.\n",
        "\n",
        "An example might be: \n",
        "\n",
        "```\n",
        "someText = 'سلام'\n",
        "```\n",
        "\n"
      ]
    },
    {
      "cell_type": "code",
      "metadata": {
        "id": "wm-rlMl03-9x"
      },
      "source": [
        "someText = '김아현'"
      ],
      "execution_count": null,
      "outputs": []
    },
    {
      "cell_type": "code",
      "metadata": {
        "id": "d8E1IcvLbYIE",
        "colab": {
          "base_uri": "https://localhost:8080/",
          "height": 34
        },
        "outputId": "45e510e2-4774-4ef0-dd7f-11ac78e02e2d"
      },
      "source": [
        "someText "
      ],
      "execution_count": null,
      "outputs": [
        {
          "output_type": "execute_result",
          "data": {
            "text/plain": [
              "'김아현'"
            ]
          },
          "metadata": {
            "tags": []
          },
          "execution_count": 11
        }
      ]
    },
    {
      "cell_type": "markdown",
      "metadata": {
        "id": "KE4xtx2P3-90"
      },
      "source": [
        "What if we wanted to do some simple math using these variables?\n",
        "\n",
        "* Create a new variable called `quantity` and set it to a number.\n",
        "* Create another new variable called `extended_price` and set it to the product of price \\* quantity (use `*` for multiplying)\n"
      ]
    },
    {
      "cell_type": "code",
      "metadata": {
        "id": "02eJwKZG3-91"
      },
      "source": [
        "quantity = 5 \n",
        "extended_price = price * quantity"
      ],
      "execution_count": null,
      "outputs": []
    },
    {
      "cell_type": "code",
      "metadata": {
        "id": "M7ZiRtsncIpz",
        "colab": {
          "base_uri": "https://localhost:8080/",
          "height": 34
        },
        "outputId": "66f57782-6981-4d97-c8f2-218ffa181bdb"
      },
      "source": [
        "extended_price"
      ],
      "execution_count": null,
      "outputs": [
        {
          "output_type": "execute_result",
          "data": {
            "text/plain": [
              "39.95"
            ]
          },
          "metadata": {
            "tags": []
          },
          "execution_count": 13
        }
      ]
    },
    {
      "cell_type": "markdown",
      "metadata": {
        "id": "WGwHjIGQ3-94"
      },
      "source": [
        "\n",
        "What happens if you try multiplying the name variable by 4?"
      ]
    },
    {
      "cell_type": "code",
      "metadata": {
        "id": "rxnXu5X83-95",
        "colab": {
          "base_uri": "https://localhost:8080/",
          "height": 34
        },
        "outputId": "9b98d3cd-41ce-4a24-bca7-ac88e48248bb"
      },
      "source": [
        "name * 4 "
      ],
      "execution_count": null,
      "outputs": [
        {
          "output_type": "execute_result",
          "data": {
            "text/plain": [
              "'DanDanDanDan'"
            ]
          },
          "metadata": {
            "tags": []
          },
          "execution_count": 14
        }
      ]
    },
    {
      "cell_type": "markdown",
      "metadata": {
        "id": "C7AwupUb3-98"
      },
      "source": [
        "How about if you *divide* it by 2?  Add a number to it?  Add another name to it (using `+`)?"
      ]
    },
    {
      "cell_type": "code",
      "metadata": {
        "id": "Tzo39Wuw3-9_",
        "colab": {
          "base_uri": "https://localhost:8080/",
          "height": 34
        },
        "outputId": "71efba51-055c-419e-e04b-cd0146d5a2b4"
      },
      "source": [
        "name + 'Kerchner'"
      ],
      "execution_count": null,
      "outputs": [
        {
          "output_type": "execute_result",
          "data": {
            "text/plain": [
              "'DanKerchner'"
            ]
          },
          "metadata": {
            "tags": []
          },
          "execution_count": 16
        }
      ]
    },
    {
      "cell_type": "code",
      "metadata": {
        "id": "l9Zc9CC9c9A0"
      },
      "source": [
        "name= name + 'Kerchner'"
      ],
      "execution_count": null,
      "outputs": []
    },
    {
      "cell_type": "code",
      "metadata": {
        "id": "KwPGLPkDdGxV",
        "colab": {
          "base_uri": "https://localhost:8080/",
          "height": 34
        },
        "outputId": "73676cba-00b7-4fda-f454-a1cb6d2838eb"
      },
      "source": [
        "name"
      ],
      "execution_count": null,
      "outputs": [
        {
          "output_type": "execute_result",
          "data": {
            "text/plain": [
              "'DanKerchner'"
            ]
          },
          "metadata": {
            "tags": []
          },
          "execution_count": 18
        }
      ]
    },
    {
      "cell_type": "markdown",
      "metadata": {
        "id": "Xm-RztaA3--C"
      },
      "source": [
        "What we're starting to see here is that Python has different **types** for numbers, text, and more.  You can find out the type of a variable by using:\n",
        "\n",
        "**`type(`**put your variable here**`)`** \n",
        "\n",
        "Try it."
      ]
    },
    {
      "cell_type": "code",
      "metadata": {
        "id": "sYpL6SxR3--D",
        "colab": {
          "base_uri": "https://localhost:8080/",
          "height": 34
        },
        "outputId": "22de17e8-be00-4ef1-c7bb-557e16276f86"
      },
      "source": [
        "type(name)"
      ],
      "execution_count": null,
      "outputs": [
        {
          "output_type": "execute_result",
          "data": {
            "text/plain": [
              "str"
            ]
          },
          "metadata": {
            "tags": []
          },
          "execution_count": 21
        }
      ]
    },
    {
      "cell_type": "markdown",
      "metadata": {
        "id": "arl0WWLQ3--F"
      },
      "source": [
        "Numbers, by the way, aren't just numbers.  Look at the type of the `price` variable versus another variable set to `7`.\n",
        "\n",
        "You can even re-assign an existing variable to new type.  Try it!\n",
        "\n",
        "With type() function, you can identify the number is whether float, int, stirng \n"
      ]
    },
    {
      "cell_type": "code",
      "metadata": {
        "id": "xWcahPaM3--I"
      },
      "source": [
        "price = 7 "
      ],
      "execution_count": null,
      "outputs": []
    },
    {
      "cell_type": "markdown",
      "metadata": {
        "id": "w_GGZDIm3--L"
      },
      "source": [
        "There's also another important basic variable type, called a **boolean** variable.  Booleans can have a value of **`True`** or **`False`** (capitalized, in Python)\n",
        "\n",
        "Create a variable called `ajoustudent` and assign its value to `True`:"
      ]
    },
    {
      "cell_type": "code",
      "metadata": {
        "id": "ofmS7ztUd3La"
      },
      "source": [
        "ajoustudent = True"
      ],
      "execution_count": null,
      "outputs": []
    },
    {
      "cell_type": "code",
      "metadata": {
        "id": "fmoWI8iJ3--L",
        "colab": {
          "base_uri": "https://localhost:8080/",
          "height": 34
        },
        "outputId": "b2266a46-4c35-476e-c826-3e109d86f8cd"
      },
      "source": [
        "type(ajoustudent)"
      ],
      "execution_count": null,
      "outputs": [
        {
          "output_type": "execute_result",
          "data": {
            "text/plain": [
              "bool"
            ]
          },
          "metadata": {
            "tags": []
          },
          "execution_count": 25
        }
      ]
    },
    {
      "cell_type": "markdown",
      "metadata": {
        "id": "ZELnzZg83--N"
      },
      "source": [
        "Now evaluate the `type()` of ajoustudent."
      ]
    },
    {
      "cell_type": "code",
      "metadata": {
        "id": "OdJNjqCq3--O"
      },
      "source": [
        ""
      ],
      "execution_count": null,
      "outputs": []
    },
    {
      "cell_type": "markdown",
      "metadata": {
        "id": "jpIN2CC53--P"
      },
      "source": [
        "#### Comparison operators:  <, >, ==, !=, <=, >=, and, or, not, ...\n",
        "\n",
        "Try out some comparisons, for example, whether:\n",
        "* `price` is greater than 5.99\n",
        "* `name` is equal to \"Dan\""
      ]
    },
    {
      "cell_type": "code",
      "metadata": {
        "id": "qUm9mdD03--R",
        "colab": {
          "base_uri": "https://localhost:8080/",
          "height": 34
        },
        "outputId": "e99050dd-52c8-4bfa-e152-4cbf6d30a9f1"
      },
      "source": [
        "price > 5.99"
      ],
      "execution_count": null,
      "outputs": [
        {
          "output_type": "execute_result",
          "data": {
            "text/plain": [
              "True"
            ]
          },
          "metadata": {
            "tags": []
          },
          "execution_count": 26
        }
      ]
    },
    {
      "cell_type": "code",
      "metadata": {
        "id": "7QwPCgYQeiX7"
      },
      "source": [
        "name = 'Dan'"
      ],
      "execution_count": null,
      "outputs": []
    },
    {
      "cell_type": "code",
      "metadata": {
        "id": "mKdar6Q_esDl",
        "colab": {
          "base_uri": "https://localhost:8080/",
          "height": 34
        },
        "outputId": "d4adceab-74b0-413c-fc03-e6a84cdc9a37"
      },
      "source": [
        "name == 'Dan'"
      ],
      "execution_count": null,
      "outputs": [
        {
          "output_type": "execute_result",
          "data": {
            "text/plain": [
              "True"
            ]
          },
          "metadata": {
            "tags": []
          },
          "execution_count": 28
        }
      ]
    },
    {
      "cell_type": "code",
      "metadata": {
        "id": "Uz1sJSzPexIi",
        "colab": {
          "base_uri": "https://localhost:8080/",
          "height": 34
        },
        "outputId": "e50b67c0-341d-4b77-f255-fbd748ed0cdd"
      },
      "source": [
        "price == 9.50"
      ],
      "execution_count": null,
      "outputs": [
        {
          "output_type": "execute_result",
          "data": {
            "text/plain": [
              "False"
            ]
          },
          "metadata": {
            "tags": []
          },
          "execution_count": 29
        }
      ]
    },
    {
      "cell_type": "code",
      "metadata": {
        "id": "HBUdtq7FfDoU",
        "colab": {
          "base_uri": "https://localhost:8080/",
          "height": 34
        },
        "outputId": "499f9865-cf27-49a4-b8eb-6a46c4527c04"
      },
      "source": [
        "(price == 9.50) or (name == 'Dan')"
      ],
      "execution_count": null,
      "outputs": [
        {
          "output_type": "execute_result",
          "data": {
            "text/plain": [
              "True"
            ]
          },
          "metadata": {
            "tags": []
          },
          "execution_count": 30
        }
      ]
    },
    {
      "cell_type": "code",
      "metadata": {
        "id": "S_829RVkfOLq",
        "colab": {
          "base_uri": "https://localhost:8080/",
          "height": 34
        },
        "outputId": "5d7dfb52-42ed-472a-d5ec-5ad4e4bb3f87"
      },
      "source": [
        "(price == 9.50) and (name == 'Dan')"
      ],
      "execution_count": null,
      "outputs": [
        {
          "output_type": "execute_result",
          "data": {
            "text/plain": [
              "False"
            ]
          },
          "metadata": {
            "tags": []
          },
          "execution_count": 31
        }
      ]
    },
    {
      "cell_type": "markdown",
      "metadata": {
        "id": "oe-XFxuD3--T"
      },
      "source": [
        "# Lists and Tuples"
      ]
    },
    {
      "cell_type": "markdown",
      "metadata": {
        "id": "Ay50GND03--U"
      },
      "source": [
        "**Lists** in Python hold an _ordered_ sequence of elements, like this:\n",
        "\n",
        "`states = ['Virginia', 'Maryland', 'New Jersey', 'Utah', 'Rhode Island']`\n",
        "\n",
        "Try creating a list of several countries."
      ]
    },
    {
      "cell_type": "code",
      "metadata": {
        "id": "Tj5OYx1F3--V"
      },
      "source": [
        "countries = ['Canada', 'Uganda', 'Australia', 'Russia', 'France', 'China']"
      ],
      "execution_count": null,
      "outputs": []
    },
    {
      "cell_type": "markdown",
      "metadata": {
        "id": "-YGuf5dq3--Y"
      },
      "source": [
        "We can access the n'th element of a list using the `mylist[n]` notation.\n",
        "\n",
        "Try retrieving the first country in the list you created above."
      ]
    },
    {
      "cell_type": "code",
      "metadata": {
        "id": "V6YHSvmA3--Z",
        "colab": {
          "base_uri": "https://localhost:8080/",
          "height": 34
        },
        "outputId": "e210fd80-8ea9-43a4-ab0e-88f88cb8bd3a"
      },
      "source": [
        "countries[0]"
      ],
      "execution_count": null,
      "outputs": [
        {
          "output_type": "execute_result",
          "data": {
            "text/plain": [
              "'Canada'"
            ]
          },
          "metadata": {
            "tags": []
          },
          "execution_count": 34
        }
      ]
    },
    {
      "cell_type": "markdown",
      "metadata": {
        "id": "bQM_djA33--c"
      },
      "source": [
        "Notice that in Python, the first element of the list is really the \"0th\" element (this is not the case when programming in R!)\n",
        "\n",
        "You can also access parts of the list using syntax like: [0:2], [:2], [3:], [-2],[-2:].  See if you can figure out what these do."
      ]
    },
    {
      "cell_type": "code",
      "metadata": {
        "id": "P1w-jAVt3--c",
        "colab": {
          "base_uri": "https://localhost:8080/",
          "height": 34
        },
        "outputId": "b18cf57c-9ae6-4732-c668-81a1b2c0b86b"
      },
      "source": [
        "countries[1:3]"
      ],
      "execution_count": null,
      "outputs": [
        {
          "output_type": "execute_result",
          "data": {
            "text/plain": [
              "['Uganda', 'Australia']"
            ]
          },
          "metadata": {
            "tags": []
          },
          "execution_count": 35
        }
      ]
    },
    {
      "cell_type": "code",
      "metadata": {
        "id": "iKON6p_I3--e",
        "colab": {
          "base_uri": "https://localhost:8080/",
          "height": 34
        },
        "outputId": "fb951df3-66b2-452a-ba7e-f6bacfecf970"
      },
      "source": [
        "countries[2:]"
      ],
      "execution_count": null,
      "outputs": [
        {
          "output_type": "execute_result",
          "data": {
            "text/plain": [
              "['Australia', 'Russia', 'France', 'China']"
            ]
          },
          "metadata": {
            "tags": []
          },
          "execution_count": 36
        }
      ]
    },
    {
      "cell_type": "code",
      "metadata": {
        "id": "ZT1BnMI7ga-x",
        "colab": {
          "base_uri": "https://localhost:8080/",
          "height": 34
        },
        "outputId": "38c2c464-ef7b-454e-ee81-31f9cade27d7"
      },
      "source": [
        "countries[-2:]"
      ],
      "execution_count": null,
      "outputs": [
        {
          "output_type": "execute_result",
          "data": {
            "text/plain": [
              "['France', 'China']"
            ]
          },
          "metadata": {
            "tags": []
          },
          "execution_count": 37
        }
      ]
    },
    {
      "cell_type": "code",
      "metadata": {
        "id": "H5o8_VBJggrA",
        "colab": {
          "base_uri": "https://localhost:8080/",
          "height": 34
        },
        "outputId": "93947965-b63a-4a4b-a922-c3f258d799bc"
      },
      "source": [
        "countries[-1:]"
      ],
      "execution_count": null,
      "outputs": [
        {
          "output_type": "execute_result",
          "data": {
            "text/plain": [
              "['China']"
            ]
          },
          "metadata": {
            "tags": []
          },
          "execution_count": 38
        }
      ]
    },
    {
      "cell_type": "code",
      "metadata": {
        "id": "P4qb9klbgkpU",
        "colab": {
          "base_uri": "https://localhost:8080/",
          "height": 34
        },
        "outputId": "81a8a16c-fa95-4be3-a840-1e3d90f80fa3"
      },
      "source": [
        "countries[-2]"
      ],
      "execution_count": null,
      "outputs": [
        {
          "output_type": "execute_result",
          "data": {
            "text/plain": [
              "'France'"
            ]
          },
          "metadata": {
            "tags": []
          },
          "execution_count": 39
        }
      ]
    },
    {
      "cell_type": "markdown",
      "metadata": {
        "id": "-uQfEZhi3--g"
      },
      "source": [
        "Lists come with useful functions, like `len(mylist)` which returns the** length of the list**.  Try using `len()`"
      ]
    },
    {
      "cell_type": "code",
      "metadata": {
        "id": "dducksREgj5x",
        "colab": {
          "base_uri": "https://localhost:8080/",
          "height": 34
        },
        "outputId": "df77f98f-c12c-4e16-ab83-70f50ab3b4cd"
      },
      "source": [
        "len(countries)"
      ],
      "execution_count": null,
      "outputs": [
        {
          "output_type": "execute_result",
          "data": {
            "text/plain": [
              "6"
            ]
          },
          "metadata": {
            "tags": []
          },
          "execution_count": 40
        }
      ]
    },
    {
      "cell_type": "code",
      "metadata": {
        "id": "1l8dgYI-3--g"
      },
      "source": [
        ""
      ],
      "execution_count": null,
      "outputs": []
    },
    {
      "cell_type": "markdown",
      "metadata": {
        "id": "53lEIr323--i"
      },
      "source": [
        "What if you wanted to add an element to a list?  Or remove an element from a list?  Try using:\n",
        "\n",
        "`mylist.append(<the new element>)`\n",
        "for example, `states.append('New York')`"
      ]
    },
    {
      "cell_type": "code",
      "metadata": {
        "id": "1zzMmhQc3--k"
      },
      "source": [
        "countries.append('Spain')"
      ],
      "execution_count": null,
      "outputs": []
    },
    {
      "cell_type": "code",
      "metadata": {
        "id": "MKsj3m81hVlr"
      },
      "source": [
        "countries.reverse()"
      ],
      "execution_count": null,
      "outputs": []
    },
    {
      "cell_type": "code",
      "metadata": {
        "id": "4_XTyaPrhKc1"
      },
      "source": [
        "countries.insert(5,'Mexico')"
      ],
      "execution_count": null,
      "outputs": []
    },
    {
      "cell_type": "code",
      "metadata": {
        "id": "wgEOvOYNhuqx"
      },
      "source": [
        "countries[0] = 'Italy'"
      ],
      "execution_count": null,
      "outputs": []
    },
    {
      "cell_type": "code",
      "metadata": {
        "id": "TQMiXjJgiDDJ",
        "colab": {
          "base_uri": "https://localhost:8080/",
          "height": 170
        },
        "outputId": "5559a679-7ef0-4061-f467-5a071f623be5"
      },
      "source": [
        "countries"
      ],
      "execution_count": null,
      "outputs": [
        {
          "output_type": "execute_result",
          "data": {
            "text/plain": [
              "['Italy',\n",
              " 'Spain',\n",
              " 'China',\n",
              " 'France',\n",
              " 'Russia',\n",
              " 'Mexico',\n",
              " 'Australia',\n",
              " 'Uganda',\n",
              " 'Canada']"
            ]
          },
          "metadata": {
            "tags": []
          },
          "execution_count": 50
        }
      ]
    },
    {
      "cell_type": "code",
      "metadata": {
        "id": "PjRv9069iFVJ",
        "colab": {
          "base_uri": "https://localhost:8080/",
          "height": 170
        },
        "outputId": "529d2346-44d0-4130-b525-a7fa7e926f0c"
      },
      "source": [
        "countries[0:2] = ['Algeria', 'Egypt']\n",
        "countries"
      ],
      "execution_count": null,
      "outputs": [
        {
          "output_type": "execute_result",
          "data": {
            "text/plain": [
              "['Algeria',\n",
              " 'Egypt',\n",
              " 'China',\n",
              " 'France',\n",
              " 'Russia',\n",
              " 'Mexico',\n",
              " 'Australia',\n",
              " 'Uganda',\n",
              " 'Canada']"
            ]
          },
          "metadata": {
            "tags": []
          },
          "execution_count": 53
        }
      ]
    },
    {
      "cell_type": "markdown",
      "metadata": {
        "collapsed": true,
        "id": "hzf2U3nM3--l"
      },
      "source": [
        "There are also list functions to do things like insert, remove, sort, reverse.  You can also use the `+` operator to add lists together. You can even multiply a list by a number, similar to how earlier we multiplied a string by a number!\n",
        "\n",
        "Try adding a list of two new states to your list."
      ]
    },
    {
      "cell_type": "code",
      "metadata": {
        "id": "rRGveMZ1iB7d",
        "colab": {
          "base_uri": "https://localhost:8080/",
          "height": 34
        },
        "outputId": "fd35bbde-2882-483d-92da-bafe12670b0c"
      },
      "source": [
        "[6,7] + [10,12,14]"
      ],
      "execution_count": null,
      "outputs": [
        {
          "output_type": "execute_result",
          "data": {
            "text/plain": [
              "[6, 7, 10, 12, 14]"
            ]
          },
          "metadata": {
            "tags": []
          },
          "execution_count": 54
        }
      ]
    },
    {
      "cell_type": "code",
      "metadata": {
        "id": "7Vzuhhuv3--m",
        "colab": {
          "base_uri": "https://localhost:8080/",
          "height": 170
        },
        "outputId": "6fc33f15-5ed8-41c9-fde2-d2fc1fd6865a"
      },
      "source": [
        "countries = countries[0:8] + countries[11:12]\n",
        "countries"
      ],
      "execution_count": null,
      "outputs": [
        {
          "output_type": "execute_result",
          "data": {
            "text/plain": [
              "['Algeria',\n",
              " 'Egypt',\n",
              " 'China',\n",
              " 'France',\n",
              " 'Russia',\n",
              " 'Mexico',\n",
              " 'Australia',\n",
              " 'Uganda',\n",
              " 'Poland']"
            ]
          },
          "metadata": {
            "tags": []
          },
          "execution_count": 63
        }
      ]
    },
    {
      "cell_type": "code",
      "metadata": {
        "id": "fZl4cuDsi8Wq",
        "colab": {
          "base_uri": "https://localhost:8080/",
          "height": 34
        },
        "outputId": "cd2ad14d-57f0-41d5-889a-8823048ee187"
      },
      "source": [
        "['a', '6', True, False]"
      ],
      "execution_count": null,
      "outputs": [
        {
          "output_type": "execute_result",
          "data": {
            "text/plain": [
              "['a', '6', True, False]"
            ]
          },
          "metadata": {
            "tags": []
          },
          "execution_count": 61
        }
      ]
    },
    {
      "cell_type": "markdown",
      "metadata": {
        "id": "ObNsGOTA3--o"
      },
      "source": [
        "So far, we've only created lists of strings (text).  Do you think Python will let you have a list with a mix of different types in it (numbers, strings, other lists, etc.)?  Try it."
      ]
    },
    {
      "cell_type": "code",
      "metadata": {
        "id": "eZdwGK7B3--o"
      },
      "source": [
        ""
      ],
      "execution_count": null,
      "outputs": []
    },
    {
      "cell_type": "markdown",
      "metadata": {
        "id": "wPIiOpKl3--q"
      },
      "source": [
        "Strings (like your name variable) also have some list-like behaviors, because they're lists of individual charactres.  How might you get the the n'th character from a string?"
      ]
    },
    {
      "cell_type": "code",
      "metadata": {
        "id": "B2Nmb7CJ3--q"
      },
      "source": [
        ""
      ],
      "execution_count": null,
      "outputs": []
    },
    {
      "cell_type": "markdown",
      "metadata": {
        "id": "AtqTtIkR3--s"
      },
      "source": [
        "### Tuples\n",
        "\n",
        "Notice that we created a list using [] square brackets.  If we use () parentheses, we create what's called a *tuple*.  A tuple might be something like this:"
      ]
    },
    {
      "cell_type": "code",
      "metadata": {
        "id": "BpsG6_Rb3--u"
      },
      "source": [
        "colors = ('blue', 'green', 'red')"
      ],
      "execution_count": null,
      "outputs": []
    },
    {
      "cell_type": "markdown",
      "metadata": {
        "id": "BFQtx0XY3--v"
      },
      "source": [
        "Notice that tuples are like lists: you can access elements, etc.  But what if you try to append to a tuple?"
      ]
    },
    {
      "cell_type": "code",
      "metadata": {
        "id": "NM_cYsE9jgOZ",
        "colab": {
          "base_uri": "https://localhost:8080/"
        },
        "outputId": "8b512762-47b3-467c-cfeb-99dce63b1b3c"
      },
      "source": [
        "colors.index('green')"
      ],
      "execution_count": null,
      "outputs": [
        {
          "output_type": "execute_result",
          "data": {
            "text/plain": [
              "1"
            ]
          },
          "metadata": {
            "tags": []
          },
          "execution_count": 3
        }
      ]
    },
    {
      "cell_type": "markdown",
      "metadata": {
        "id": "wWgGPRMr3--x"
      },
      "source": [
        "### The \"in\" operator\n",
        "\n",
        "We can use `in` to see whether an element is found in a list.  Try running this:"
      ]
    },
    {
      "cell_type": "code",
      "metadata": {
        "id": "KQ3CpNco3--y",
        "colab": {
          "base_uri": "https://localhost:8080/"
        },
        "outputId": "385ab908-9e66-4006-84cd-788b91f5dad4"
      },
      "source": [
        "'yellow' in colors"
      ],
      "execution_count": null,
      "outputs": [
        {
          "output_type": "execute_result",
          "data": {
            "text/plain": [
              "False"
            ]
          },
          "metadata": {
            "tags": []
          },
          "execution_count": 4
        }
      ]
    },
    {
      "cell_type": "code",
      "metadata": {
        "id": "iyQWfqyNegi9",
        "colab": {
          "base_uri": "https://localhost:8080/"
        },
        "outputId": "35216834-85c8-4765-cfd8-55cdc28e8659"
      },
      "source": [
        "'green' in colors"
      ],
      "execution_count": null,
      "outputs": [
        {
          "output_type": "execute_result",
          "data": {
            "text/plain": [
              "True"
            ]
          },
          "metadata": {
            "tags": []
          },
          "execution_count": 5
        }
      ]
    },
    {
      "cell_type": "markdown",
      "metadata": {
        "collapsed": true,
        "id": "yK9qVYSV3--0"
      },
      "source": [
        "# Dictionaries \n",
        "#Prettly unique in Python\n",
        "\n",
        "A **Dictionary** is a container that holds pairs of objects - keys and values.  Keys may be strings or numbers.  A value may be any type, whether an integer, string, boolean, list, etc.  It can even be another dictionary!\n",
        "\n",
        "Here's an example of a dictionary:"
      ]
    },
    {
      "cell_type": "code",
      "metadata": {
        "id": "PYOxILdR3--0"
      },
      "source": [
        "workshop = {'name': 'Programming With Python',\n",
        "            'duration': 2,\n",
        "            'instructors': ['Dan', 'Laura', 'Dolsy', 'Sahiti'],\n",
        "            'awesome': True}"
      ],
      "execution_count": null,
      "outputs": []
    },
    {
      "cell_type": "markdown",
      "metadata": {
        "collapsed": true,
        "id": "gRKrDjY53--4"
      },
      "source": [
        "So dictionaries are very similar to lists, except that they're indexed with keys.\n",
        "\n",
        "Dictionaries are actually data structures that can represent objects in **JSON** (JavaScript Object Notation) format, which today is a very common way of representing data!\n",
        "\n",
        "How do you think you would access the value of `'instructors'` key from the `workshop` dictionary?"
      ]
    },
    {
      "cell_type": "code",
      "metadata": {
        "id": "H3eEDCnw3--4"
      },
      "source": [
        "workshop['duration'] = 4"
      ],
      "execution_count": null,
      "outputs": []
    },
    {
      "cell_type": "code",
      "metadata": {
        "id": "LD5uGdN5k0_7",
        "colab": {
          "base_uri": "https://localhost:8080/"
        },
        "outputId": "7b764a71-a86d-4312-f1f6-451fe93f6ca9"
      },
      "source": [
        "workshop"
      ],
      "execution_count": null,
      "outputs": [
        {
          "output_type": "execute_result",
          "data": {
            "text/plain": [
              "{'awesome': True,\n",
              " 'duration': 4,\n",
              " 'instructors': ['Dan', 'Laura', 'Dolsy', 'Sahiti'],\n",
              " 'name': 'Programming With Python'}"
            ]
          },
          "metadata": {
            "tags": []
          },
          "execution_count": 9
        }
      ]
    },
    {
      "cell_type": "markdown",
      "metadata": {
        "id": "2VY6VvO13--6"
      },
      "source": [
        "How do you think you would ***add*** an item to the dictionary?  Try adding a 'location' item.  How about replacing an item?"
      ]
    },
    {
      "cell_type": "code",
      "metadata": {
        "id": "19V7U78b3--7",
        "colab": {
          "base_uri": "https://localhost:8080/"
        },
        "outputId": "ea19bbe4-7791-4f73-9842-51cc87c2cec3"
      },
      "source": [
        "workshop['location'] = 'Library'\n",
        "workshop"
      ],
      "execution_count": null,
      "outputs": [
        {
          "output_type": "execute_result",
          "data": {
            "text/plain": [
              "{'awesome': True,\n",
              " 'duration': 4,\n",
              " 'instructors': ['Dan', 'Laura', 'Dolsy', 'Sahiti'],\n",
              " 'location': 'Library',\n",
              " 'name': 'Programming With Python'}"
            ]
          },
          "metadata": {
            "tags": []
          },
          "execution_count": 11
        }
      ]
    },
    {
      "cell_type": "markdown",
      "metadata": {
        "collapsed": true,
        "id": "cBRuUUgb3--9"
      },
      "source": [
        "### Challenge\n",
        "\n",
        "How might you add two more names to the list of instructors?  (Challenge:  Try to do this in one line, *without* just overriding the list of instructors)"
      ]
    },
    {
      "cell_type": "code",
      "metadata": {
        "id": "svn_3DI83---",
        "colab": {
          "base_uri": "https://localhost:8080/"
        },
        "outputId": "de0427d9-09c7-4e15-e659-9b11e5219b8d"
      },
      "source": [
        "workshop['instructors'] = workshop['instructors'] + ['Dan', 'Shumuel']\n",
        "workshop\n",
        "                                     "
      ],
      "execution_count": null,
      "outputs": [
        {
          "output_type": "execute_result",
          "data": {
            "text/plain": [
              "{'awesome': True,\n",
              " 'duration': 4,\n",
              " 'instructors': ['Dan', 'Laura', 'Dolsy', 'Sahiti', 'Dan', 'Shumuel'],\n",
              " 'location': 'Library',\n",
              " 'name': 'Programming With Python'}"
            ]
          },
          "metadata": {
            "tags": []
          },
          "execution_count": 12
        }
      ]
    },
    {
      "cell_type": "code",
      "metadata": {
        "id": "8tDH4Xz5l5EL",
        "colab": {
          "base_uri": "https://localhost:8080/"
        },
        "outputId": "1cfe9af2-e391-4e99-ae7b-914592dd1746"
      },
      "source": [
        "workshop['instructors'].remove('Shumuel')\n",
        "workshop"
      ],
      "execution_count": null,
      "outputs": [
        {
          "output_type": "execute_result",
          "data": {
            "text/plain": [
              "{'awesome': True,\n",
              " 'duration': 4,\n",
              " 'instructors': ['Dan', 'Laura', 'Dolsy', 'Sahiti', 'Dan'],\n",
              " 'location': 'Library',\n",
              " 'name': 'Programming With Python'}"
            ]
          },
          "metadata": {
            "tags": []
          },
          "execution_count": 13
        }
      ]
    },
    {
      "cell_type": "code",
      "metadata": {
        "id": "UxalMu0hmESn"
      },
      "source": [
        ""
      ],
      "execution_count": null,
      "outputs": []
    },
    {
      "cell_type": "markdown",
      "metadata": {
        "id": "wzTveZhQ3-_C"
      },
      "source": [
        "We can also look up whether a certain key exists in a dictionary.  How might you evaluate whether or not `workshop` contains a `location` key?"
      ]
    },
    {
      "cell_type": "code",
      "metadata": {
        "id": "KHGH6NWc3-_D",
        "colab": {
          "base_uri": "https://localhost:8080/",
          "height": 34
        },
        "outputId": "fbf8ad72-c610-4d1c-cd4f-a346261fafac"
      },
      "source": [
        "'location' in workshop"
      ],
      "execution_count": null,
      "outputs": [
        {
          "output_type": "execute_result",
          "data": {
            "text/plain": [
              "True"
            ]
          },
          "metadata": {
            "tags": []
          },
          "execution_count": 81
        }
      ]
    },
    {
      "cell_type": "markdown",
      "metadata": {
        "id": "HLItTaYq3-_G"
      },
      "source": [
        "# Comments\n",
        "\n",
        "Comment lines start with `#`.  They don't execute any code, but it's a very good idea to comment your code so that the reader (which might be your future self) can understand anything that's not already obvious from your clear and well-written code."
      ]
    },
    {
      "cell_type": "code",
      "metadata": {
        "id": "htTaGJwK3-_G"
      },
      "source": [
        "# This is a comment and is here for the reader's benefit"
      ],
      "execution_count": null,
      "outputs": []
    },
    {
      "cell_type": "markdown",
      "metadata": {
        "id": "gSIbXT1H3-_I"
      },
      "source": [
        "# Iteration (looping)\n",
        "\n",
        "Iteration allows us to repeat over a section of code, and iterate through a list (or other \"iterable\") at the same time.  **`for`** and **`while`** create iterations, like this:\n",
        "\n",
        "```\n",
        "numbers = [4, 6, 0, 5.5, 3]\n",
        "for n in numbers:\n",
        "    print(\"The next number in the list, squared is \", n**2)\n",
        "    \n",
        "print(\"We're done iterating -- notice that this line isn't indented, so it's outside the loop\")\n",
        "```    \n",
        "\n",
        "and this brings up the topic of **indentation**!  The block (i.e., lines) of code that you're iterating over needs to be indented.  In Python, you should indent by 4 spaces.\n",
        "\n",
        "Try creating a list of exam scores that we'd like to grade on a curve.  Use `max()` to find out the highest score.  Then create an iteration that prints out the score as well as the score graded on a curve (by dividing by the highest score).\n"
      ]
    },
    {
      "cell_type": "code",
      "metadata": {
        "id": "cB9e2EI73-_J"
      },
      "source": [
        "scores = [80, 91, 77, 50.5, 43, 88, 81]"
      ],
      "execution_count": null,
      "outputs": []
    },
    {
      "cell_type": "code",
      "metadata": {
        "id": "4x_EHB0E3-_K",
        "colab": {
          "base_uri": "https://localhost:8080/",
          "height": 34
        },
        "outputId": "c9cbcce4-6400-4428-9fb5-e5fa948d055c"
      },
      "source": [
        "max(scores)"
      ],
      "execution_count": null,
      "outputs": [
        {
          "output_type": "execute_result",
          "data": {
            "text/plain": [
              "91"
            ]
          },
          "metadata": {
            "tags": []
          },
          "execution_count": 84
        }
      ]
    },
    {
      "cell_type": "code",
      "metadata": {
        "id": "3Lgp854N3-_O",
        "colab": {
          "base_uri": "https://localhost:8080/",
          "height": 153
        },
        "outputId": "949765bd-b8cb-46dd-9fd4-20cdfd8f8dcb"
      },
      "source": [
        "curvedscores = []\n",
        "\n",
        "for score in scores: \n",
        "  c = curvedscores.append(100*score/max(scores))\n",
        "  print('the student got a ', score, ' which curves to a ', c)\n",
        "  \n",
        "print('Done')"
      ],
      "execution_count": null,
      "outputs": [
        {
          "output_type": "stream",
          "text": [
            "the student got a  80  which curves to a  None\n",
            "the student got a  91  which curves to a  None\n",
            "the student got a  77  which curves to a  None\n",
            "the student got a  50.5  which curves to a  None\n",
            "the student got a  43  which curves to a  None\n",
            "the student got a  88  which curves to a  None\n",
            "the student got a  81  which curves to a  None\n",
            "Done\n"
          ],
          "name": "stdout"
        }
      ]
    },
    {
      "cell_type": "code",
      "metadata": {
        "id": "b1TfmTzA7e_6",
        "colab": {
          "base_uri": "https://localhost:8080/",
          "height": 51
        },
        "outputId": "70184797-adec-459e-c78c-ed689d246578"
      },
      "source": [
        "grade= ['*']*len(scores)\n",
        "print(grade)\n",
        "\n",
        "for s in scores:\n",
        "  index = scores.index(s)\n",
        "  if s >= 90: \n",
        "    grade[index] = \"A\"\n",
        "  elif s>= 85: \n",
        "    grade[index] = \"A-\"\n",
        "  else :\n",
        "    grade[index] = \"B\"\n",
        "    \n",
        "print(grade)  "
      ],
      "execution_count": null,
      "outputs": [
        {
          "output_type": "stream",
          "text": [
            "['*', '*', '*', '*', '*', '*']\n",
            "['B', 'A', 'B', 'B', 'A-', 'A']\n"
          ],
          "name": "stdout"
        }
      ]
    },
    {
      "cell_type": "markdown",
      "metadata": {
        "id": "XWIo1pp63-_R"
      },
      "source": [
        "Iterating over dictionaries is slightly different:\n"
      ]
    },
    {
      "cell_type": "code",
      "metadata": {
        "id": "ajcpjk-y3-_S"
      },
      "source": [
        "for key, value in workshop.items():\n",
        "    print (\"The key is \", key, \" and the value is \", value)"
      ],
      "execution_count": null,
      "outputs": []
    },
    {
      "cell_type": "code",
      "metadata": {
        "id": "UjVLeTkyoldk",
        "colab": {
          "base_uri": "https://localhost:8080/",
          "height": 34
        },
        "outputId": "74960cc4-92b1-424a-e3f9-2d23c225de84"
      },
      "source": [
        "workshop.items()"
      ],
      "execution_count": null,
      "outputs": [
        {
          "output_type": "execute_result",
          "data": {
            "text/plain": [
              "dict_items([('name', 'Programming With Python'), ('duration', 4), ('instructors', ['Dan', 'Laura', 'Dolsy', 'Sahiti', 'Dan']), ('awesome', True), ('location', 'Gelman Library')])"
            ]
          },
          "metadata": {
            "tags": []
          },
          "execution_count": 91
        }
      ]
    },
    {
      "cell_type": "markdown",
      "metadata": {
        "id": "KuMsoqE13-_V"
      },
      "source": [
        "Notice that dictionaries are unordered.  There's no guarantee about what order the iterator will yield the dictionary items to you in."
      ]
    },
    {
      "cell_type": "code",
      "metadata": {
        "id": "iZFYg3fapI7k",
        "colab": {
          "base_uri": "https://localhost:8080/",
          "height": 102
        },
        "outputId": "58820460-4c7f-419d-84e3-ae01b5726f40"
      },
      "source": [
        "for name, duration in workshop.items():\n",
        "  print ('name is', name, 'and the duration is', duration)"
      ],
      "execution_count": null,
      "outputs": [
        {
          "output_type": "stream",
          "text": [
            "name is name and the duration is Programming With Python\n",
            "name is duration and the duration is 4\n",
            "name is instructors and the duration is ['Dan', 'Laura', 'Dolsy', 'Sahiti', 'Dan']\n",
            "name is awesome and the duration is True\n",
            "name is location and the duration is Gelman Library\n"
          ],
          "name": "stdout"
        }
      ]
    },
    {
      "cell_type": "markdown",
      "metadata": {
        "id": "1iLUd1sm3-_W"
      },
      "source": [
        "### Another way to iterate: `while`"
      ]
    },
    {
      "cell_type": "markdown",
      "metadata": {
        "id": "rKM4VW1a3-_W"
      },
      "source": [
        "What if we don't have a list or other \"iterable\" for our for loop to iterate over? In that case, you can also loop using **`while`**."
      ]
    },
    {
      "cell_type": "markdown",
      "metadata": {
        "id": "vP__9XLG3-_X"
      },
      "source": [
        "Let's keep adding random numbers (between 1 and 10) until the sum hits at least 50.  We can use Python's `random` library, which we first need to import:"
      ]
    },
    {
      "cell_type": "code",
      "metadata": {
        "id": "rEL49SnT3-_Y"
      },
      "source": [
        "import random"
      ],
      "execution_count": null,
      "outputs": []
    },
    {
      "cell_type": "code",
      "metadata": {
        "id": "zy-w_xFdpVO4"
      },
      "source": [
        "random."
      ],
      "execution_count": null,
      "outputs": []
    },
    {
      "cell_type": "code",
      "metadata": {
        "id": "bzXjGNYy3-_e",
        "colab": {
          "base_uri": "https://localhost:8080/",
          "height": 34
        },
        "outputId": "b3a6afa5-1dac-4c72-91ec-33e3a9f41865"
      },
      "source": [
        "random.randint(1,10)"
      ],
      "execution_count": null,
      "outputs": [
        {
          "output_type": "execute_result",
          "data": {
            "text/plain": [
              "1"
            ]
          },
          "metadata": {
            "tags": []
          },
          "execution_count": 100
        }
      ]
    },
    {
      "cell_type": "code",
      "metadata": {
        "id": "KaXQHkL5p2Yn",
        "colab": {
          "base_uri": "https://localhost:8080/",
          "height": 204
        },
        "outputId": "4597f529-5c73-4ae4-c0d6-42a6979f9b0d"
      },
      "source": [
        "sum_so_far=0 \n",
        "\n",
        "while sum_so_far < 50: \n",
        "  sum_so_far = sum_so_far + random.randint(1,10)\n",
        "  print(sum_so_far)"
      ],
      "execution_count": null,
      "outputs": [
        {
          "output_type": "stream",
          "text": [
            "1\n",
            "5\n",
            "11\n",
            "14\n",
            "23\n",
            "32\n",
            "35\n",
            "40\n",
            "48\n",
            "49\n",
            "50\n"
          ],
          "name": "stdout"
        }
      ]
    },
    {
      "cell_type": "markdown",
      "metadata": {
        "id": "ePNCscCD3-_j"
      },
      "source": [
        "Now for the `while` loop:"
      ]
    },
    {
      "cell_type": "markdown",
      "metadata": {
        "id": "at-b9zWF3-_k"
      },
      "source": [
        "sum_so_far = 0 \n",
        "while sum_so_far < 50:\n",
        "    # What would you put in here?"
      ]
    },
    {
      "cell_type": "markdown",
      "metadata": {
        "id": "CjjDvjIM3-_l"
      },
      "source": [
        "### A random side note:\n",
        "    \n",
        "Try running the cell above with `random.randint(1,10)` again and again.  In a scientific setting, how might you ensure that your random sequence is \"repeatable\"?"
      ]
    },
    {
      "cell_type": "code",
      "metadata": {
        "id": "SdaDqwyiqQZP"
      },
      "source": [
        "random.seed(100)"
      ],
      "execution_count": null,
      "outputs": []
    },
    {
      "cell_type": "markdown",
      "metadata": {
        "id": "vx4AjHrt3-_m"
      },
      "source": [
        "### Another use of while:"
      ]
    },
    {
      "cell_type": "markdown",
      "metadata": {
        "id": "H3nPfMFJ3-_n"
      },
      "source": [
        "One way you might see `while` used is with **`while True`** which just continues indefinitely:"
      ]
    },
    {
      "cell_type": "code",
      "metadata": {
        "id": "r3ZC3GJP3-_o",
        "colab": {
          "base_uri": "https://localhost:8080/",
          "height": 238
        },
        "outputId": "7367f18a-aa9d-4384-8522-5bdfdd760694"
      },
      "source": [
        "lucky_number = 7\n",
        "\n",
        "while True:\n",
        "    a_number = random.randint(1,10)\n",
        "    if a_number != lucky_number:\n",
        "        print(\"Darn! Didn't get a\", lucky_number)\n",
        "    else:\n",
        "        print(\"Got a lucky\", lucky_number,\"-- Taking my winnings and quitting the while loop.\")\n",
        "        break"
      ],
      "execution_count": null,
      "outputs": [
        {
          "output_type": "stream",
          "text": [
            "Darn! Didn't get a 7\n",
            "Darn! Didn't get a 7\n",
            "Darn! Didn't get a 7\n",
            "Darn! Didn't get a 7\n",
            "Darn! Didn't get a 7\n",
            "Darn! Didn't get a 7\n",
            "Darn! Didn't get a 7\n",
            "Darn! Didn't get a 7\n",
            "Darn! Didn't get a 7\n",
            "Darn! Didn't get a 7\n",
            "Darn! Didn't get a 7\n",
            "Darn! Didn't get a 7\n",
            "Got a lucky 7 -- Taking my winnings and quitting the while loop.\n"
          ],
          "name": "stdout"
        }
      ]
    },
    {
      "cell_type": "markdown",
      "metadata": {
        "id": "P-XGL6w03-_u"
      },
      "source": [
        "What does the `break` statement do?"
      ]
    },
    {
      "cell_type": "markdown",
      "metadata": {
        "id": "68-RHxdY3-_w"
      },
      "source": [
        "## Conditionals\n",
        "\n",
        "Notice that in the example above, we snuck in the use of **`if`** and **`else`**.  Conditional expressions, using `if`, `else`, and `elif` (a contraction of \"else if\") allow us to execute blocks of code only if the condition is true.\n",
        "\n",
        "Create some code that iterates through a list of exam scores.  If a score is 70 or above, it should print out \"Pass!\"  If it's below 70, it should print out \"Fail!\""
      ]
    },
    {
      "cell_type": "code",
      "metadata": {
        "id": "3SXK9Mlj3-_x",
        "colab": {
          "base_uri": "https://localhost:8080/",
          "height": 51
        },
        "outputId": "9ded956d-03bd-48ae-aa08-e2362ee5128c"
      },
      "source": [
        "scores = [61, 95, 70, 80, 85, 99]\n",
        "ls = len(scores)\n",
        "\n",
        "print(ls)\n",
        "\n",
        "grade = [1] * ls\n",
        "\n",
        "print(grade)\n",
        "\n",
        "\n"
      ],
      "execution_count": null,
      "outputs": [
        {
          "output_type": "stream",
          "text": [
            "6\n",
            "[1, 1, 1, 1, 1, 1]\n"
          ],
          "name": "stdout"
        }
      ]
    },
    {
      "cell_type": "code",
      "metadata": {
        "id": "LzVQ1oe-x8te",
        "colab": {
          "base_uri": "https://localhost:8080/",
          "height": 130
        },
        "outputId": "1386825b-24bd-43d4-e491-dd6c2e1d9e16"
      },
      "source": [
        "    \n",
        "  for s in scores :\n",
        "    print(s) \n",
        "#      i = scores.index(s)\n",
        "#      print(i)\n",
        "#    \n",
        "#    if s >= 95 : \n",
        "#    grade[i] = \"A\"\n",
        "#    print(grade)\n",
        "    "
      ],
      "execution_count": null,
      "outputs": [
        {
          "output_type": "error",
          "ename": "IndentationError",
          "evalue": "ignored",
          "traceback": [
            "\u001b[0;36m  File \u001b[0;32m\"<ipython-input-176-a474b5d3d23c>\"\u001b[0;36m, line \u001b[0;32m2\u001b[0m\n\u001b[0;31m    for s in scores :\u001b[0m\n\u001b[0m    ^\u001b[0m\n\u001b[0;31mIndentationError\u001b[0m\u001b[0;31m:\u001b[0m unexpected indent\n"
          ]
        }
      ]
    },
    {
      "cell_type": "markdown",
      "metadata": {
        "id": "yWD7Vgst3-_z"
      },
      "source": [
        "## Functions\n",
        "\n",
        "We've already seen some built-in functions, such as `print()`, `max()`, and `len()`.  But Python is meant to be used with more than just its built-in functions.\n",
        "\n",
        "Let's try to take the square root of a number in Python, using `sqrt()`:"
      ]
    },
    {
      "cell_type": "code",
      "metadata": {
        "id": "myIRws_q3-_2",
        "colab": {
          "base_uri": "https://localhost:8080/",
          "height": 34
        },
        "outputId": "f6a7eaaf-06a9-4ffa-c92e-e4e589640f54"
      },
      "source": [
        "import math\n",
        "math.sqrt(8)"
      ],
      "execution_count": null,
      "outputs": [
        {
          "output_type": "execute_result",
          "data": {
            "text/plain": [
              "2.8284271247461903"
            ]
          },
          "metadata": {
            "tags": []
          },
          "execution_count": 120
        }
      ]
    },
    {
      "cell_type": "code",
      "metadata": {
        "id": "TRwm8CVVsSvZ"
      },
      "source": [
        "import math as m"
      ],
      "execution_count": null,
      "outputs": []
    },
    {
      "cell_type": "code",
      "metadata": {
        "id": "Ins8G_YcsV7g",
        "colab": {
          "base_uri": "https://localhost:8080/",
          "height": 34
        },
        "outputId": "d733abba-1a79-4dfb-e596-a6fdff24d683"
      },
      "source": [
        "m.sqrt(8)"
      ],
      "execution_count": null,
      "outputs": [
        {
          "output_type": "execute_result",
          "data": {
            "text/plain": [
              "2.8284271247461903"
            ]
          },
          "metadata": {
            "tags": []
          },
          "execution_count": 130
        }
      ]
    },
    {
      "cell_type": "markdown",
      "metadata": {
        "id": "frfNuKfY3-_6"
      },
      "source": [
        "What happened?  But I googled and saw that the square root function in Python is called `sqrt()`!\n",
        "\n",
        "### Importing libraries and using their functions\n",
        "\n",
        "Libraries are sets of Python functions that you can \"import\" to make available and use with *your* code.\n",
        "\n",
        "There are libraries that are part of Python, such as `math`, and libraries that other people write, such as `numpy`.\n",
        "\n",
        "We can import the math library into our code with:\n",
        "\n",
        "```import math```\n",
        "\n",
        "Each time we call a function that's in a library, we use the syntax ***LibraryName.FunctionName***. Adding the library name with a . before the function name tells Python where to find the function.\n",
        "\n",
        "Let's try taking that square root again:"
      ]
    },
    {
      "cell_type": "code",
      "metadata": {
        "id": "RyEU0Ta83-_7"
      },
      "source": [
        ""
      ],
      "execution_count": null,
      "outputs": []
    },
    {
      "cell_type": "code",
      "metadata": {
        "id": "EMi_z9S23-_-"
      },
      "source": [
        ""
      ],
      "execution_count": null,
      "outputs": []
    },
    {
      "cell_type": "markdown",
      "metadata": {
        "id": "c0VFkQQK3_AC"
      },
      "source": [
        "And if we want, we can do something like this:\n",
        "\n",
        "```from math import sqrt```\n",
        "\n",
        "See if you can figure out what effect that had:"
      ]
    },
    {
      "cell_type": "code",
      "metadata": {
        "id": "t64EaSE23_AD"
      },
      "source": [
        ""
      ],
      "execution_count": null,
      "outputs": []
    },
    {
      "cell_type": "markdown",
      "metadata": {
        "id": "Nl12CtpR3_AH"
      },
      "source": [
        "When might you choose\n",
        "\n",
        "```import some_library```\n",
        "\n",
        "versus\n",
        "\n",
        "```from some_library import some_function```\n",
        "\n",
        "or even\n",
        "\n",
        "```from some_library import *``` ?"
      ]
    },
    {
      "cell_type": "code",
      "metadata": {
        "id": "772hLC6JsU3a"
      },
      "source": [
        ""
      ],
      "execution_count": null,
      "outputs": []
    },
    {
      "cell_type": "markdown",
      "metadata": {
        "id": "CX966Y2x3_AH"
      },
      "source": [
        "### Writing our own functions\n",
        "\n",
        "What if we want to write our own functions?\n",
        "\n",
        "Defining part of a program in Python as a function is done using the `def` keyword. For example a function that takes a temperature in degrees Fahrenheit and returns the temperature in degrees Celsius:"
      ]
    },
    {
      "cell_type": "code",
      "metadata": {
        "id": "V5_TRo5m3_AI"
      },
      "source": [
        "def fahreinheit2celsius(temp_fahr):\n",
        "    temp_celsius = (temp_fahr-32)*5/9\n",
        "    return temp_celsius"
      ],
      "execution_count": null,
      "outputs": []
    },
    {
      "cell_type": "markdown",
      "metadata": {
        "id": "7vkUoEVj3_AK"
      },
      "source": [
        "Now we can use it:"
      ]
    },
    {
      "cell_type": "code",
      "metadata": {
        "id": "9jZ9c_DV3_AM",
        "colab": {
          "base_uri": "https://localhost:8080/",
          "height": 34
        },
        "outputId": "098e1295-a2f9-4feb-867b-090f2e38004a"
      },
      "source": [
        "c = fahreinheit2celsius(100)\n",
        "print(c)"
      ],
      "execution_count": null,
      "outputs": [
        {
          "output_type": "stream",
          "text": [
            "37.77777777777778\n"
          ],
          "name": "stdout"
        }
      ]
    },
    {
      "cell_type": "markdown",
      "metadata": {
        "id": "4OepVVOi3_AQ"
      },
      "source": [
        "### What's variable \"scope\"?"
      ]
    },
    {
      "cell_type": "markdown",
      "metadata": {
        "id": "XdushatC3_AS"
      },
      "source": [
        "Let's say we had defined our function like this, using a variable called `ratio` instead of `5/9`:"
      ]
    },
    {
      "cell_type": "code",
      "metadata": {
        "id": "DsarEKmX3_AU"
      },
      "source": [
        "def fahreinheit2celsius(temp_fahr):\n",
        "    ratio = 5/9\n",
        "    temp_celsius = (temp_fahr-32)*ratio\n",
        "    return temp_celsius"
      ],
      "execution_count": null,
      "outputs": []
    },
    {
      "cell_type": "markdown",
      "metadata": {
        "id": "yW-oe1L53_AX"
      },
      "source": [
        "What happens if we then try to print `ratio`?"
      ]
    },
    {
      "cell_type": "code",
      "metadata": {
        "id": "j-NKGKtU3_AX",
        "colab": {
          "base_uri": "https://localhost:8080/",
          "height": 164
        },
        "outputId": "39c6bfe4-d72b-4b30-bdeb-c8e4088a9d05"
      },
      "source": [
        "print(ratio)"
      ],
      "execution_count": null,
      "outputs": [
        {
          "output_type": "error",
          "ename": "NameError",
          "evalue": "ignored",
          "traceback": [
            "\u001b[0;31m---------------------------------------------------------------------------\u001b[0m",
            "\u001b[0;31mNameError\u001b[0m                                 Traceback (most recent call last)",
            "\u001b[0;32m<ipython-input-134-f32d53a42e26>\u001b[0m in \u001b[0;36m<module>\u001b[0;34m()\u001b[0m\n\u001b[0;32m----> 1\u001b[0;31m \u001b[0mprint\u001b[0m\u001b[0;34m(\u001b[0m\u001b[0mratio\u001b[0m\u001b[0;34m)\u001b[0m\u001b[0;34m\u001b[0m\u001b[0;34m\u001b[0m\u001b[0m\n\u001b[0m",
            "\u001b[0;31mNameError\u001b[0m: name 'ratio' is not defined"
          ]
        }
      ]
    },
    {
      "cell_type": "markdown",
      "metadata": {
        "id": "WC9o75sM3_Aa"
      },
      "source": [
        "Why did we get this error?"
      ]
    },
    {
      "cell_type": "code",
      "metadata": {
        "id": "GCPUlPkQtlw0"
      },
      "source": [
        ""
      ],
      "execution_count": null,
      "outputs": []
    },
    {
      "cell_type": "markdown",
      "metadata": {
        "id": "g9N_jn5N3_Ab"
      },
      "source": [
        "### A bit more about passing values to functions\n",
        "\n",
        "Remember earlier how we graded test scores on a curve?  Let's make a function to do that.  We'll pass it the individual test score, and the top score that will be our new \"100%\":"
      ]
    },
    {
      "cell_type": "code",
      "metadata": {
        "id": "-GcixbEK3_Ab"
      },
      "source": [
        "def curve(score, top_score = 100):\n",
        "    return 100*score/top_score"
      ],
      "execution_count": null,
      "outputs": []
    },
    {
      "cell_type": "code",
      "metadata": {
        "id": "P0R-7Yj23_Ae",
        "colab": {
          "base_uri": "https://localhost:8080/",
          "height": 34
        },
        "outputId": "db65a322-7ea3-475b-a8d0-1f76b6c7ee8d"
      },
      "source": [
        "curve(89)"
      ],
      "execution_count": null,
      "outputs": [
        {
          "output_type": "execute_result",
          "data": {
            "text/plain": [
              "89.0"
            ]
          },
          "metadata": {
            "tags": []
          },
          "execution_count": 140
        }
      ]
    },
    {
      "cell_type": "code",
      "metadata": {
        "id": "w6S2iZbQt2W8"
      },
      "source": [
        "curve()"
      ],
      "execution_count": null,
      "outputs": []
    },
    {
      "cell_type": "markdown",
      "metadata": {
        "id": "NUToYKAP3_Ah"
      },
      "source": [
        "Now, if we specify which parameter is which, we can pass them in any order we like!"
      ]
    },
    {
      "cell_type": "code",
      "metadata": {
        "id": "d7FBU31y3_Ah",
        "colab": {
          "base_uri": "https://localhost:8080/",
          "height": 34
        },
        "outputId": "eb2e5091-d546-472d-9028-253e142b19be"
      },
      "source": [
        "curve(top_score=96, score=89)"
      ],
      "execution_count": null,
      "outputs": [
        {
          "output_type": "execute_result",
          "data": {
            "text/plain": [
              "92.70833333333333"
            ]
          },
          "metadata": {
            "tags": []
          },
          "execution_count": 137
        }
      ]
    },
    {
      "cell_type": "markdown",
      "metadata": {
        "id": "nxyRDcl-3_Aj"
      },
      "source": [
        "Key points here:\n",
        "\n",
        "- definition starts with **`def`**\n",
        "- function body is indented\n",
        "- parameters are matched \"in order\", unless we specify them by name\n",
        "- **`return`** keyword precedes returned value\n"
      ]
    },
    {
      "cell_type": "markdown",
      "metadata": {
        "id": "oJE-7t2j3_Aj"
      },
      "source": [
        "### Challenge\n",
        "\n",
        "Can you create a function called `pad` that would take a list and pads it with some new item if it's less than the length you want?  You would use it like this:\n",
        "\n",
        "```\n",
        "names = ['Ali', 'Bob', 'Carla']\n",
        "names = pad(names, 5, '*')\n",
        "```\n",
        "Then `names` would evaluate to:\n",
        "```\n",
        "['Ali', 'Bob', 'Carla', '*', '*']\n",
        "```"
      ]
    },
    {
      "cell_type": "code",
      "metadata": {
        "id": "IjVCOVNs3_Ak"
      },
      "source": [
        "def pad(mylist, newlength, padstring=''): \n",
        "  padlength = newlength - len(mylist)\n",
        "  padlist = [padstring] * padlength\n",
        "  newlist = mylist + padlist \n",
        "  \n",
        "  return newlist "
      ],
      "execution_count": null,
      "outputs": []
    },
    {
      "cell_type": "code",
      "metadata": {
        "id": "tgrmuzBt3_Am",
        "colab": {
          "base_uri": "https://localhost:8080/",
          "height": 34
        },
        "outputId": "913d7df0-e37b-4e69-f311-60e012516718"
      },
      "source": [
        "pad(['Ali', 'Bob', 'Carla'], 10, '###')"
      ],
      "execution_count": null,
      "outputs": [
        {
          "output_type": "execute_result",
          "data": {
            "text/plain": [
              "['Ali', 'Bob', 'Carla', '###', '###', '###', '###', '###', '###', '###']"
            ]
          },
          "metadata": {
            "tags": []
          },
          "execution_count": 146
        }
      ]
    },
    {
      "cell_type": "code",
      "metadata": {
        "id": "Ekuc46643_Ao"
      },
      "source": [
        ""
      ],
      "execution_count": null,
      "outputs": []
    }
  ]
}